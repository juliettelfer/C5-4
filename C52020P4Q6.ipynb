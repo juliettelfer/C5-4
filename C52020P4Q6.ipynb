{
 "cells": [
  {
   "cell_type": "markdown",
   "metadata": {},
   "source": [
    "# C5 Problem Set 4: Cloud Physics\n",
    "\n",
    "## 1) The Bowen cloud model"
   ]
  },
  {
   "cell_type": "markdown",
   "metadata": {},
   "source": [
    "### a) Droplet growth model\n",
    "\n",
    "The mass growth rate of collector drops with radius $R$ falling\n",
    "through a cloud with droplets of radius $r$ can be\n",
    "described as\n",
    "\n",
    "$$\n",
    "\\frac{d M}{d t} = \\pi R^2 (u_R-u_r) L E + 4 \\pi \\rho_l R\n",
    "\\frac{S-1}{F_k +F_d}\n",
    "$$\n",
    "\n",
    "where $M$ is the drop mass, $u_R$ and $u_r$ are the fall velocities\n",
    "of drops and droplets, $L=10^{-3}$ kgm$^{-3}$ is the cloud liquid\n",
    "water content, $E=0.8$ is an effective collision/coalescence efficiency,\n",
    "$\\rho_l=1000$ kg m$^{-3}$ is the densitiy of water, $S$ is the saturation ratio and $F_k$ and $F_l$ are assumed constant.  \n",
    "\n",
    "Explain the physical significance of the terms of this equation."
   ]
  },
  {
   "cell_type": "markdown",
   "metadata": {},
   "source": [
    "### Solution \n",
    "\n"
   ]
  },
  {
   "cell_type": "markdown",
   "metadata": {},
   "source": [
    "### b) Droplet trajectories under condensational growth\n",
    "\n",
    "Consider a cumulus cloud with constant cloud updraft velocity $U = 1$\n",
    "ms$^{-1}$. Initially, assume that no collector drops exist, i.e. that all drops and droplets are of\n",
    "equal radius $r$, with terminal fall velocity $u_r=k_r r^2$ and show thsat the droplet height $h_r(t)$ above cloud base can be expressed as:\n",
    "\n",
    "$$\n",
    "h_r (t) = (U - k_r r_0^2) t - k_r D t^2\n",
    "$$"
   ]
  },
  {
   "cell_type": "markdown",
   "metadata": {},
   "source": [
    "### Solution\n",
    "\n"
   ]
  },
  {
   "cell_type": "markdown",
   "metadata": {},
   "source": [
    "### b) Plot of droplet trajectories\n",
    "\n",
    "For a typical cumulus cloud of vertical extent of 2 km, plot the\n",
    "droplet trajectory $h_r$ as a function of time, with and without\n",
    "taking the droplet fall velocity into account. What is the difference\n",
    " $\\Delta h_r$ after 2000 seconds? Discuss the implications for warm rain\n",
    "formation and the underlying cause (assume $k_r=1.2 \\times 10^8 m^{-1}s^{-1}$ and\n",
    "$D \\equiv \\frac{S-1}{F_k +F_d} = 2.5 \\times 10^{-13} m^2 s^{-1}$ and\n",
    "that the initial droplet radius $r_0$ can be neglected). "
   ]
  },
  {
   "cell_type": "code",
   "execution_count": 9,
   "metadata": {},
   "outputs": [],
   "source": [
    "import numpy as np\n",
    "from matplotlib import pyplot as plt"
   ]
  },
  {
   "cell_type": "code",
   "execution_count": 10,
   "metadata": {},
   "outputs": [
    {
     "ename": "SyntaxError",
     "evalue": "invalid syntax (<ipython-input-10-14848010c09c>, line 11)",
     "output_type": "error",
     "traceback": [
      "\u001b[0;36m  File \u001b[0;32m\"<ipython-input-10-14848010c09c>\"\u001b[0;36m, line \u001b[0;32m11\u001b[0m\n\u001b[0;31m    h  =\u001b[0m\n\u001b[0m         ^\u001b[0m\n\u001b[0;31mSyntaxError\u001b[0m\u001b[0;31m:\u001b[0m invalid syntax\n"
     ]
    }
   ],
   "source": [
    "U  = 1.0            # ms-1\n",
    "kr = 1.2E8          # m-1 s-1\n",
    "D  = 2.5E-13        # m2 s-1\n",
    "L  = 1.0E-3\n",
    "rho= 1000.0\n",
    "E  = 0.8\n",
    "krr= 8.0E3          # s-1\n",
    "R0 = 20.0E-6\n",
    "t  = np.linspace(0, 10000, 10000)\n",
    "hu = U*t\n",
    "h  = "
   ]
  },
  {
   "cell_type": "code",
   "execution_count": 7,
   "metadata": {},
   "outputs": [
    {
     "ename": "NameError",
     "evalue": "name 't' is not defined",
     "output_type": "error",
     "traceback": [
      "\u001b[0;31m---------------------------------------------------------------------------\u001b[0m",
      "\u001b[0;31mNameError\u001b[0m                                 Traceback (most recent call last)",
      "\u001b[0;32m<ipython-input-7-13a8deae1f96>\u001b[0m in \u001b[0;36m<module>\u001b[0;34m\u001b[0m\n\u001b[0;32m----> 1\u001b[0;31m \u001b[0mplt\u001b[0m\u001b[0;34m.\u001b[0m\u001b[0mplot\u001b[0m\u001b[0;34m(\u001b[0m\u001b[0mt\u001b[0m\u001b[0;34m,\u001b[0m \u001b[0mhu\u001b[0m\u001b[0;34m,\u001b[0m \u001b[0mcolor\u001b[0m\u001b[0;34m=\u001b[0m\u001b[0;34m\"black\"\u001b[0m\u001b[0;34m,\u001b[0m \u001b[0mlinewidth\u001b[0m\u001b[0;34m=\u001b[0m\u001b[0;36m1.0\u001b[0m\u001b[0;34m,\u001b[0m \u001b[0mlinestyle\u001b[0m\u001b[0;34m=\u001b[0m\u001b[0;34m\"-\"\u001b[0m\u001b[0;34m,\u001b[0m \u001b[0mlabel\u001b[0m\u001b[0;34m=\u001b[0m\u001b[0;34m\"$U t$\"\u001b[0m\u001b[0;34m)\u001b[0m\u001b[0;34m\u001b[0m\u001b[0;34m\u001b[0m\u001b[0m\n\u001b[0m\u001b[1;32m      2\u001b[0m \u001b[0;34m\u001b[0m\u001b[0m\n\u001b[1;32m      3\u001b[0m \u001b[0;34m...\u001b[0m\u001b[0;34m\u001b[0m\u001b[0;34m\u001b[0m\u001b[0m\n\u001b[1;32m      4\u001b[0m \u001b[0;34m\u001b[0m\u001b[0m\n\u001b[1;32m      5\u001b[0m \u001b[0mplt\u001b[0m\u001b[0;34m.\u001b[0m\u001b[0msavefig\u001b[0m\u001b[0;34m(\u001b[0m\u001b[0;34m'P4Q6_Fig1.pdf'\u001b[0m\u001b[0;34m,\u001b[0m \u001b[0mbbox_inches\u001b[0m\u001b[0;34m=\u001b[0m\u001b[0;34m'tight'\u001b[0m\u001b[0;34m)\u001b[0m\u001b[0;34m\u001b[0m\u001b[0;34m\u001b[0m\u001b[0m\n",
      "\u001b[0;31mNameError\u001b[0m: name 't' is not defined"
     ]
    }
   ],
   "source": [
    "plt.plot(t, hu, color=\"black\", linewidth=1.0, linestyle=\"-\", label=\"$U t$\")\n",
    "\n",
    "...\n",
    "\n",
    "plt.savefig('P4Q6_Fig1.pdf', bbox_inches='tight')\n",
    "\n",
    "plt.show()\n"
   ]
  },
  {
   "cell_type": "markdown",
   "metadata": {},
   "source": [
    "### Solution\n"
   ]
  },
  {
   "cell_type": "markdown",
   "metadata": {},
   "source": [
    "### c) Droplet trajectories under growth by collision/coalescence\n",
    "\n",
    "Now consider a sub-set of collector drops with radius $R_0= 20 \\mu m$ and\n",
    "terminal fall velocity $u_R =  k_R R$. Show that the droplet trajectories $h_R(t)$ above cloud\n",
    "base, ignoring condensational growth and the fall velocity $u_r$ of the\n",
    "droplets of radius $r$, can be expressed as:\n",
    "\n",
    " $$\n",
    "h_R(t) = U t + \\frac{4 \\rho_l R_0}{L E} \\left(1 - \\exp\\left(\\frac{L E k_R}{4 \\rho_l} t \\right) \\right)\n",
    " $$\n",
    "\n",
    "Evaluate $h_R(t)$ for 1000 s and 2000 s and plot the trajectory of the collector drops.\n",
    "Discuss the relevance for warm rain formation  ($k_R=8000 s^{-1}$)."
   ]
  },
  {
   "cell_type": "markdown",
   "metadata": {},
   "source": [
    "### Solution\n",
    "\n",
    "\n",
    "\n",
    "Plot the collector drop trajectory:"
   ]
  },
  {
   "cell_type": "code",
   "execution_count": 8,
   "metadata": {},
   "outputs": [
    {
     "ename": "NameError",
     "evalue": "name 't' is not defined",
     "output_type": "error",
     "traceback": [
      "\u001b[0;31m---------------------------------------------------------------------------\u001b[0m",
      "\u001b[0;31mNameError\u001b[0m                                 Traceback (most recent call last)",
      "\u001b[0;32m<ipython-input-8-d1713025e655>\u001b[0m in \u001b[0;36m<module>\u001b[0;34m\u001b[0m\n\u001b[0;32m----> 1\u001b[0;31m \u001b[0mplt\u001b[0m\u001b[0;34m.\u001b[0m\u001b[0mplot\u001b[0m\u001b[0;34m(\u001b[0m\u001b[0mt\u001b[0m\u001b[0;34m,\u001b[0m \u001b[0mhu\u001b[0m\u001b[0;34m,\u001b[0m \u001b[0mcolor\u001b[0m\u001b[0;34m=\u001b[0m\u001b[0;34m\"black\"\u001b[0m\u001b[0;34m,\u001b[0m \u001b[0mlinewidth\u001b[0m\u001b[0;34m=\u001b[0m\u001b[0;36m1.0\u001b[0m\u001b[0;34m,\u001b[0m \u001b[0mlinestyle\u001b[0m\u001b[0;34m=\u001b[0m\u001b[0;34m\"-\"\u001b[0m\u001b[0;34m,\u001b[0m \u001b[0mlabel\u001b[0m\u001b[0;34m=\u001b[0m\u001b[0;34m\"$U t$\"\u001b[0m\u001b[0;34m)\u001b[0m\u001b[0;34m\u001b[0m\u001b[0;34m\u001b[0m\u001b[0m\n\u001b[0m\u001b[1;32m      2\u001b[0m \u001b[0;34m\u001b[0m\u001b[0m\n\u001b[1;32m      3\u001b[0m \u001b[0mplt\u001b[0m\u001b[0;34m.\u001b[0m\u001b[0msavefig\u001b[0m\u001b[0;34m(\u001b[0m\u001b[0;34m'P4Q6_Fig2.pdf'\u001b[0m\u001b[0;34m,\u001b[0m \u001b[0mbbox_inches\u001b[0m\u001b[0;34m=\u001b[0m\u001b[0;34m'tight'\u001b[0m\u001b[0;34m)\u001b[0m\u001b[0;34m\u001b[0m\u001b[0;34m\u001b[0m\u001b[0m\n\u001b[1;32m      4\u001b[0m \u001b[0;34m\u001b[0m\u001b[0m\n\u001b[1;32m      5\u001b[0m \u001b[0mplt\u001b[0m\u001b[0;34m.\u001b[0m\u001b[0mshow\u001b[0m\u001b[0;34m(\u001b[0m\u001b[0;34m)\u001b[0m\u001b[0;34m\u001b[0m\u001b[0;34m\u001b[0m\u001b[0m\n",
      "\u001b[0;31mNameError\u001b[0m: name 't' is not defined"
     ]
    }
   ],
   "source": [
    "plt.plot(t, hu, color=\"black\", linewidth=1.0, linestyle=\"-\", label=\"$U t$\")\n",
    "\n",
    "plt.savefig('P4Q6_Fig2.pdf', bbox_inches='tight')\n",
    "\n",
    "plt.show()\n",
    "\n"
   ]
  },
  {
   "cell_type": "markdown",
   "metadata": {},
   "source": [
    "### Solution \n"
   ]
  },
  {
   "cell_type": "code",
   "execution_count": null,
   "metadata": {},
   "outputs": [],
   "source": []
  }
 ],
 "metadata": {
  "kernelspec": {
   "display_name": "Python 3",
   "language": "python",
   "name": "python3"
  },
  "language_info": {
   "codemirror_mode": {
    "name": "ipython",
    "version": 3
   },
   "file_extension": ".py",
   "mimetype": "text/x-python",
   "name": "python",
   "nbconvert_exporter": "python",
   "pygments_lexer": "ipython3",
   "version": "3.7.1"
  }
 },
 "nbformat": 4,
 "nbformat_minor": 2
}
